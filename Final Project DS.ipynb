# Core Libraries
import numpy as np
import pandas as pd
import matplotlib.pyplot as plt

# Scikit-learn: Model Building & Evaluation
from sklearn.model_selection import (
    train_test_split,
    GridSearchCV,
    cross_val_score,
    StratifiedKFold
)
from sklearn.metrics import (
    balanced_accuracy_score,
    recall_score,
    classification_report,
    confusion_matrix,
    ConfusionMatrixDisplay
)
from sklearn.linear_model import LogisticRegression
from sklearn.ensemble import RandomForestClassifier
from sklearn.preprocessing import StandardScaler
from sklearn.pipeline import Pipeline

# Statistics
from scipy.stats import sem

# Reproducibility
np.random.seed(42)


def load_data(data_dir='/Users/ryan/Documents/AMR_Project/data'):
    """
    Loads training and test data for AMR modeling:
    - Gene presence/absence matrices
    - k-mer features
    - Labels and genome IDs
    - Gene alignment metadata

    Returns:
        train_data, test_data, train_kmers, test_kmers, y_train,
        y_train_ids, y_test_ids, train_gene_alignment
    """
    
    # Load gene presence/absence matrices
    train_data = pd.read_csv(f"{data_dir}/train_pa_genes.csv").set_index('genome_id')
    test_data  = pd.read_csv(f"{data_dir}/test_pa_genes.csv").set_index('genome_id')

    # Load k-mer feature arrays
    train_kmers = np.load(f"{data_dir}/train_kmers.npy", allow_pickle=True)
    test_kmers  = np.load(f"{data_dir}/test_kmers.npy", allow_pickle=True)

    # Load resistance labels and genome IDs
    y_train     = np.load(f"{data_dir}/y_train.npy", allow_pickle=True)
    y_train_ids = np.load(f"{data_dir}/train_ids.npy", allow_pickle=True).astype(str)
    y_test_ids  = np.load(f"{data_dir}/test_ids.npy", allow_pickle=True).astype(str)

    # Gene alignment metadata
    train_gene_alignment = pd.read_csv(f"{data_dir}/train_genes.csv")

    # Quick checks
    print(f"Training data shape: {train_data.shape}")
    print(f"Training labels shape: {y_train.shape}")
    print(f"Test data shape: {test_data.shape}")

    return train_data, test_data, train_kmers, test_kmers, y_train, y_train_ids, y_test_ids, train_gene_alignment

# Load and unpack
train_pa_genes, test_pa_genes, X_train_kmers, X_test_kmers, y_train, y_train_ids, y_test_ids, train_gene_alignment = load_data()
