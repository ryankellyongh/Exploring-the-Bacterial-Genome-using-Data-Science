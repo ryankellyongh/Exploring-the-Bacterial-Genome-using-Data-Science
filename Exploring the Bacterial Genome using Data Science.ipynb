{
 "cells": [
  {
   "cell_type": "markdown",
   "id": "0ceba74e-da9b-4912-adc8-42444429166e",
   "metadata": {},
   "source": [
    "## Summary\n",
    "\n",
    "In this project, I trained and evaluated two models: Logistic Regression and Random Forest, to predict cefepime resistance in *E. coli* using presence/absence gene features. After comparing performance using balanced accuracy and confusion matrix analysis, I selected Logistic Regression as my final model due to its strong recall and interpretability of feature importance."
   ]
  },
  {
   "cell_type": "markdown",
   "id": "50e671f5-d0f5-4dc9-beb7-f2248ccc2f3c",
   "metadata": {},
   "source": [
    "## 1. Core Libraries"
   ]
  },
  {
   "cell_type": "code",
   "execution_count": 38,
   "id": "3cddc670-2246-42fe-a4db-6caa70e324ee",
   "metadata": {},
   "outputs": [],
   "source": [
    "#Core Libraries for numerical computing, data handling, and plotting\n",
    "import numpy as np\n",
    "import pandas as pd\n",
    "import matplotlib.pyplot as plt\n",
    "\n",
    "#Scikit-learn: model building, hyperparameter tuning, evaluation, and preprocessing\n",
    "from sklearn.model_selection import (\n",
    "    train_test_split, GridSearchCV, cross_val_score, StratifiedKFold\n",
    ")\n",
    "from sklearn.metrics import balanced_accuracy_score, recall_score\n",
    "from sklearn.metrics import classification_report, confusion_matrix, ConfusionMatrixDisplay\n",
    "from sklearn.linear_model import LogisticRegression\n",
    "from sklearn.ensemble import RandomForestClassifier\n",
    "from sklearn.preprocessing import StandardScaler\n",
    "from sklearn.pipeline import Pipeline\n",
    "\n",
    "#Statistics: standard error of the mean\n",
    "from scipy.stats import sem\n",
    "\n",
    "#Reproducibility\n",
    "np.random.seed(42)"
   ]
  },
  {
   "cell_type": "markdown",
   "id": "da91afe7-3afe-48c8-adfd-647da52e1328",
   "metadata": {},
   "source": [
    "## 2. Load Genomic Data \n",
    "#### Use presence/absence gene features and k-mer counts, common formats in bioinformatics."
   ]
  },
  {
   "cell_type": "code",
   "execution_count": 39,
   "id": "bb529892-a2a1-4c75-be32-f5d2e3abd9b2",
   "metadata": {},
   "outputs": [],
   "source": [
    "def load_data(data_dir='/Users/ryan/Documents/AMR_Project/data'):\n",
    "    \"\"\"\n",
    "    Loads training and test data for AMR modeling:\n",
    "    - Gene presence/absence matrices\n",
    "    - k-mer features\n",
    "    - Labels and genome IDs\n",
    "    - Gene alignment metadata\n",
    "\n",
    "    Returns:\n",
    "        train_data, test_data, train_kmers, test_kmers, y_train,\n",
    "        y_train_ids, y_test_ids, train_gene_alignment\n",
    "    \"\"\"\n",
    "    \n",
    "    #Load gene presence/absence matrices\n",
    "    train_data = pd.read_csv(f\"{data_dir}/train_pa_genes.csv\").set_index('genome_id')\n",
    "    test_data  = pd.read_csv(f\"{data_dir}/test_pa_genes.csv\").set_index('genome_id')\n",
    "\n",
    "    #Load k-mer feature arrays\n",
    "    train_kmers = np.load(f\"{data_dir}/train_kmers.npy\", allow_pickle=True)\n",
    "    test_kmers  = np.load(f\"{data_dir}/test_kmers.npy\", allow_pickle=True)\n",
    "\n",
    "    #Load resistance labels and genome IDs\n",
    "    y_train     = np.load(f\"{data_dir}/y_train.npy\", allow_pickle=True)\n",
    "    y_train_ids = np.load(f\"{data_dir}/train_ids.npy\", allow_pickle=True).astype(str)\n",
    "    y_test_ids  = np.load(f\"{data_dir}/test_ids.npy\", allow_pickle=True).astype(str)\n",
    "\n",
    "    #Gene alignment metadata\n",
    "    train_gene_alignment = pd.read_csv(f\"{data_dir}/train_genes.csv\")\n",
    "\n",
    "    #Quick checks\n",
    "    print(f\"Training data shape: {train_data.shape}\")\n",
    "    print(f\"Training labels shape: {y_train.shape}\")\n",
    "    print(f\"Test data shape: {test_data.shape}\")\n",
    "\n",
    "    return train_data, test_data, train_kmers, test_kmers, y_train, y_train_ids, y_test_ids, train_gene_alignment"
   ]
  },
  {
   "cell_type": "markdown",
   "id": "7e76bca2-cab4-4c39-b781-ca0502f2a538",
   "metadata": {},
   "source": [
    "## 3. Load and Prepare Data\n",
    "#### After loading, unpack the genomic datasets into training and test variables.  \n",
    "#### Use the **presence/absence gene features** (`train_pa_genes`) as predictors and flattened the resistance labels (`y_train`).  \n",
    "\n",
    "#### To keep the workflow flexible, add a small helper that automatically detects the positive class label (`R` for Resistant or `1` if numeric)."
   ]
  },
  {
   "cell_type": "code",
   "execution_count": 40,
   "id": "8f8710e2-4d80-4c4a-b040-7858bdaa7b15",
   "metadata": {},
   "outputs": [
    {
     "name": "stdout",
     "output_type": "stream",
     "text": [
      "Training data shape: (748, 159)\n",
      "Training labels shape: (748, 1)\n",
      "Test data shape: (200, 159)\n"
     ]
    }
   ],
   "source": [
    "#Load and unpack\n",
    "train_pa_genes, test_pa_genes, X_train_kmers, X_test_kmers, y_train, y_train_ids, y_test_ids, train_gene_alignment = load_data()\n",
    "\n",
    "train_pa_genes.head(5)\n",
    "\n",
    "#Prepare data\n",
    "X = train_pa_genes\n",
    "y = y_train.ravel()\n",
    "\n",
    "#Label helper — decide positive label automatically\n",
    "def infer_pos_label(y_true):\n",
    "    uniq = set(np.unique(y_true))\n",
    "    return \"R\" if (\"R\" in uniq or {\"S\",\"R\"}.issubset(uniq)) else 1\n",
    "\n",
    "POS_LABEL = infer_pos_label(y)"
   ]
  },
  {
   "cell_type": "markdown",
   "id": "67de25c0-0ab0-435d-b749-58792982b7c5",
   "metadata": {},
   "source": [
    "## 4. Define Models (Default & Tuned)\n",
    "#### Build two baseline models and their tuned versions:  \n",
    "\n",
    "#### **Logistic Regression** with scaling (Pipeline), evaluated with both default and tuned hyperparameters.  \n",
    "#### **Random Forest** with default settings and a grid of hyperparameters for tuning.  \n",
    "\n",
    "#### This allows a fair comparison between simple baselines and optimized models."
   ]
  },
  {
   "cell_type": "code",
   "execution_count": 41,
   "id": "45d05cef-9e58-4f4f-9e71-023fb2097a92",
   "metadata": {},
   "outputs": [],
   "source": [
    "logreg_default = Pipeline([\n",
    "    ('scaler', StandardScaler(with_mean=True, with_std=True)),\n",
    "    ('logreg', LogisticRegression(max_iter=1000, solver='lbfgs'))\n",
    "])\n",
    "\n",
    "rf_default = RandomForestClassifier(random_state=42, n_jobs=-1)\n",
    "\n",
    "#Tuned pipelines\n",
    "logreg_pipeline = Pipeline([\n",
    "    ('scaler', StandardScaler(with_mean=True, with_std=True)),\n",
    "    ('logreg', LogisticRegression(max_iter=2000, solver='liblinear'))\n",
    "])\n",
    "\n",
    "logreg_params = {\n",
    "    'logreg__C': [0.01, 0.1, 1, 10, 100],\n",
    "    'logreg__penalty': ['l1', 'l2']\n",
    "}\n",
    "\n",
    "rf = RandomForestClassifier(random_state=42, n_jobs=-1)\n",
    "rf_params = {\n",
    "    'n_estimators': [100, 300, 600],\n",
    "    'max_depth': [5, 10, None],\n",
    "    'min_samples_split': [2, 5],\n",
    "    'min_samples_leaf': [1, 2]\n",
    "}"
   ]
  },
  {
   "cell_type": "markdown",
   "id": "ea270ed2-14b3-4c9d-9fa3-8702b0799c6b",
   "metadata": {},
   "source": [
    "## 5. Tuned Models — Nested Cross-Validation (Outer + Inner)\n",
    "#### To ensure robust evaluation, use **nested cross-validation**:  \n",
    "\n",
    "**Outer CV (5-fold StratifiedKFold):** estimates generalization performance.  \n",
    "**Inner CV (3-fold StratifiedKFold):** tunes hyperparameters inside each training fold.  "
   ]
  },
  {
   "cell_type": "code",
   "execution_count": 42,
   "id": "a87c461d-4247-48ad-9cbc-f6680dc62cab",
   "metadata": {},
   "outputs": [],
   "source": [
    "#Define cross-validation strategy\n",
    "\n",
    "outer_cv = StratifiedKFold(n_splits=5, shuffle=True, random_state=1)  #for outer evaluation\n",
    "inner_cv = StratifiedKFold(n_splits=3, shuffle=True, random_state=1)  #for hyperparameter tuning"
   ]
  },
  {
   "cell_type": "code",
   "execution_count": 43,
   "id": "1ae4afd7-eebc-4136-b345-088246f97ab2",
   "metadata": {},
   "outputs": [],
   "source": [
    "#Define tuned pipelines & grids\n",
    "logreg_pipeline = Pipeline([\n",
    "    ('scaler', StandardScaler(with_mean=True, with_std=True)),\n",
    "    ('logreg', LogisticRegression(max_iter=2000, solver='liblinear'))\n",
    "])\n",
    "logreg_params = {\n",
    "    'logreg__C': [0.01, 0.1, 1, 10, 100],\n",
    "    'logreg__penalty': ['l1', 'l2']\n",
    "}\n",
    "\n",
    "rf = RandomForestClassifier(random_state=42, n_jobs=-1)\n",
    "rf_params = {\n",
    "    'n_estimators': [100, 300, 600],\n",
    "    'max_depth': [5, 10, None],\n",
    "    'min_samples_split': [2, 5],\n",
    "    'min_samples_leaf': [1, 2]\n",
    "}\n",
    "\n",
    "logreg_search = GridSearchCV(\n",
    "    logreg_pipeline, logreg_params, cv=inner_cv, scoring='balanced_accuracy', n_jobs=-1\n",
    ")\n",
    "rf_search = GridSearchCV(\n",
    "    rf, rf_params, cv=inner_cv, scoring='balanced_accuracy', n_jobs=-1\n",
    ")"
   ]
  },
  {
   "cell_type": "markdown",
   "id": "e0353756-16ff-4c53-a267-b82ad7246672",
   "metadata": {},
   "source": [
    "## 6. Default Models — Nested CV Evaluation\n",
    "#### First, I evaluate Logistic Regression and Random Forest with their default hyperparameters.\n",
    "\n",
    "#### Outer CV (5-fold): Estimates generalization performance.\n",
    "\n",
    "#### Metric: Balanced Accuracy.\n",
    "\n",
    "#### To establish a baseline before tuning."
   ]
  },
  {
   "cell_type": "code",
   "execution_count": 55,
   "id": "2457caeb-850b-4d53-95de-7023eea98e8a",
   "metadata": {},
   "outputs": [],
   "source": [
    "logreg_default_scores = cross_val_score(\n",
    "    logreg_default, X, y, cv=outer_cv, scoring='balanced_accuracy', n_jobs=-1\n",
    ")\n",
    "rf_default_scores = cross_val_score(\n",
    "    rf_default, X, y, cv=outer_cv, scoring='balanced_accuracy', n_jobs=-1\n",
    ")"
   ]
  },
  {
   "cell_type": "markdown",
   "id": "ecc554a7-18e2-48af-bd35-156fda3a5fb3",
   "metadata": {},
   "source": [
    "## 7. Tuned Models - Nested CV Evaluation\n",
    "#### After, evaluate Logistic Regression and Random Forest with hyperparameter tuning inside the nested CV.\n",
    "\n",
    "#### Inner CV (3-fold GridSearchCV): Finds best hyperparameters.\n",
    "\n",
    "#### Outer CV (5-fold): Reports unbiased generalization score.\n",
    "\n",
    "#### Metric: Balanced Accuracy.\n",
    "\n",
    "#### To measure improvement from tuning vs defaults."
   ]
  },
  {
   "cell_type": "code",
   "execution_count": 45,
   "id": "3071259d-7464-4258-876f-b7316089deee",
   "metadata": {},
   "outputs": [],
   "source": [
    "logreg_tuned_scores = cross_val_score(\n",
    "    logreg_search, X, y, cv=outer_cv, scoring='balanced_accuracy', n_jobs=-1\n",
    ")\n",
    "rf_tuned_scores = cross_val_score(\n",
    "    rf_search, X, y, cv=outer_cv, scoring='balanced_accuracy', n_jobs=-1\n",
    ")"
   ]
  },
  {
   "cell_type": "markdown",
   "id": "156ea623-54c3-4b27-9a68-c7c5a7b87332",
   "metadata": {},
   "source": [
    "## 8. Summary Statistics\n",
    "#### Report mean balanced accuracy ± standard error of the mean (SEM) across folds."
   ]
  },
  {
   "cell_type": "code",
   "execution_count": 46,
   "id": "aa451aa6-7392-4cfb-8a80-da5144434cb0",
   "metadata": {},
   "outputs": [
    {
     "name": "stdout",
     "output_type": "stream",
     "text": [
      "\n",
      "Means ± SEM (balanced accuracy)\n",
      "  LogReg Default : 0.811 ± 0.013\n",
      "  RF Default     : 0.777 ± 0.012\n",
      "  LogReg Tuned   : 0.834 ± 0.019\n",
      "  RF Tuned       : 0.772 ± 0.010\n"
     ]
    }
   ],
   "source": [
    "#Print means ± SEM\n",
    "def m_sem(a): return f\"{np.mean(a):.3f} ± {sem(a):.3f}\"\n",
    "print(\"\\nMeans ± SEM (balanced accuracy)\")\n",
    "print(\"  LogReg Default :\", m_sem(logreg_default_scores))\n",
    "print(\"  RF Default     :\", m_sem(rf_default_scores))\n",
    "print(\"  LogReg Tuned   :\", m_sem(logreg_tuned_scores))\n",
    "print(\"  RF Tuned       :\", m_sem(rf_tuned_scores))"
   ]
  },
  {
   "cell_type": "markdown",
   "id": "e6c7c4af-7463-40dc-b48c-d4e50425489e",
   "metadata": {},
   "source": [
    "## 9. Generate Final Test Predictions & Save"
   ]
  },
  {
   "cell_type": "code",
   "execution_count": 56,
   "id": "c0f7cb04-37d1-44a3-baa8-a16a834bd5a0",
   "metadata": {},
   "outputs": [
    {
     "name": "stdout",
     "output_type": "stream",
     "text": [
      "\n",
      "Top 10 features by |coef|:\n",
      "gb|KM211508.1|+|0-876|ARO:3003163|CTX-M-155: coef=-1.1936\n",
      "gb|JN967644.1|+|0-813|ARO:3002356|NDM-6: coef=-0.4741\n",
      "gb|JX017365.1|+|244-1120|ARO:3001989|CTX-M-130: coef=-0.3958\n",
      "gb|GQ140348.1|+|0-882|ARO:3002320|KPC-10: coef=-0.3323\n",
      "gb|KF998105.1|+|4171-4849|ARO:3002579|AAC(6')-Ib8: coef=-0.2100\n",
      "gb|AF078527.1|+|3769-4303|ARO:3000230|ANT(2'')-Ia: coef=-0.2089\n",
      "gb|X13543.1|+|185-1046|ARO:3002533|AAC(3)-IIa: coef=-0.1876\n",
      "gb|HM146927.1|+|0-1146|ARO:3002053|CMY-42: coef=-0.1702\n",
      "gb|NG_068168.1|+|0-876|ARO:3005657|CTX-M-234: coef=0.1509\n",
      "gb|HQ845196.1|+|0-861|ARO:3001109|SHV-52: coef=-0.1359\n"
     ]
    }
   ],
   "source": [
    "#Probabilities\n",
    "if hasattr(final_model.named_steps['logreg'], \"predict_proba\"):\n",
    "    y_val_proba = final_model.predict_proba(X_val)[:, 1]  # P(Resistant)\n",
    "    # Attach to a small frame if you want to inspect\n",
    "    # pd.DataFrame({\"y_true\": y_val, \"p_resistant\": y_val_proba}).head()\n",
    "\n",
    "#Top coefficients (absolute magnitude)\n",
    "logreg = final_model.named_steps['logreg']\n",
    "coefs = pd.Series(logreg.coef_[0], index=X.columns)\n",
    "top10 = coefs.abs().sort_values(ascending=False).head(10).index\n",
    "print(\"\\nTop 10 features by |coef|:\")\n",
    "for f in top10:\n",
    "    print(f\"{f}: coef={coefs[f]:.4f}\")"
   ]
  },
  {
   "cell_type": "markdown",
   "id": "fc4dc700-817e-410b-9551-752a41b48722",
   "metadata": {},
   "source": [
    "## 10. Cross-Validation Results Visualization\n",
    "#### The plot below shows mean balanced accuracy for each model (default vs. tuned), with error bars representing the standard error of the mean (SEM)."
   ]
  },
  {
   "cell_type": "code",
   "execution_count": 48,
   "id": "d00d2a8d-af26-46aa-b202-dd78a050aa01",
   "metadata": {},
   "outputs": [
    {
     "data": {
      "image/png": "[encoded data removed]",
      "text/plain": [
       "<Figure size 1000x450 with 1 Axes>"
      ]
     },
     "metadata": {},
     "output_type": "display_data"
    },
    {
     "name": "stdout",
     "output_type": "stream",
     "text": [
      "Saved: cv_balanced_accuracy_sem.png\n"
     ]
    }
   ],
   "source": [
    "scores = [\n",
    "    logreg_default_scores,\n",
    "    logreg_tuned_scores,\n",
    "    rf_default_scores,\n",
    "    rf_tuned_scores\n",
    "]\n",
    "labels = [\"LogReg (Default)\", \"LogReg (Tuned)\", \"RF (Default)\", \"RF (Tuned)\"]\n",
    "errors = [sem(s) for s in scores]\n",
    "\n",
    "fig, ax = plt.subplots(figsize=(10, 4.5))\n",
    "for i, (s, label, err) in enumerate(zip(scores, labels, errors)):\n",
    "    mean_score = np.mean(s)\n",
    "    ax.errorbar(x=mean_score, y=3 - i, xerr=err, fmt='o', capsize=5, label=label)\n",
    "ax.set_yticks([0,1,2,3]); ax.set_yticklabels(labels[::-1])\n",
    "ax.set_xlabel(\"Balanced Accuracy\"); ax.set_title(\"Cross-Validation Balanced Accuracy (± SEM)\")\n",
    "ax.set_xlim(0.50, 1.00); ax.set_ylim(-0.5, 3.5)\n",
    "ax.grid(axis='x')\n",
    "ax.legend(loc=\"lower right\")\n",
    "plt.tight_layout()\n",
    "plt.savefig(\"cv_balanced_accuracy_sem.png\", dpi=200)\n",
    "plt.show()\n",
    "plt.close()\n",
    "print(\"Saved: cv_balanced_accuracy_sem.png\")"
   ]
  },
  {
   "cell_type": "markdown",
   "id": "30e2c779-e92a-4ca9-b71d-d5f2a47230d3",
   "metadata": {},
   "source": [
    "## 11. Final Refit on Full Data Set\n",
    "#### After nested CV scoring, fit the grid searches on the entire training set to expose the best hyperparameters for each model."
   ]
  },
  {
   "cell_type": "code",
   "execution_count": 49,
   "id": "8cf716d1-c6d3-4687-b8ee-4c34497694ca",
   "metadata": {},
   "outputs": [
    {
     "name": "stdout",
     "output_type": "stream",
     "text": [
      "Best Logistic Regression params: {'logreg__C': 0.1, 'logreg__penalty': 'l1'}\n",
      "Best Random Forest params: {'max_depth': None, 'min_samples_leaf': 1, 'min_samples_split': 2, 'n_estimators': 300}\n"
     ]
    }
   ],
   "source": [
    "#Fit searches on full data to expose best_params_\n",
    "logreg_search.fit(X, y)\n",
    "rf_search.fit(X, y)\n",
    "\n",
    "print(\"Best Logistic Regression params:\", logreg_search.best_params_)\n",
    "print(\"Best Random Forest params:\", rf_search.best_params_)"
   ]
  },
  {
   "cell_type": "markdown",
   "id": "2426fe2e-da1e-4916-85a0-d600b841accb",
   "metadata": {},
   "source": [
    "## # 12. Validation Split Evaluation (20%)\n",
    "#### 20% of the data (stratified by labels) to compare the best-tuned models side by side.\n",
    "#### This section reports:\n",
    "\n",
    "#### Balanced Accuracy\n",
    "\n",
    "#### Recall on Resistant isolates\n",
    "\n",
    "#### Classification Reports\n",
    "\n",
    "#### Confusion Matrices\n",
    "\n",
    "#### Side-by-side validation table"
   ]
  },
  {
   "cell_type": "code",
   "execution_count": 50,
   "id": "74443554-eb61-4162-a674-20c23458c666",
   "metadata": {},
   "outputs": [
    {
     "name": "stdout",
     "output_type": "stream",
     "text": [
      "\n",
      "--- Evaluating tuned models on 20% validation split ---\n",
      "\n",
      "Using Random Forest with best params: {'max_depth': None, 'min_samples_leaf': 1, 'min_samples_split': 2, 'n_estimators': 300}\n",
      "\n",
      "=== Random Forest (Validation) ===\n",
      "Balanced Accuracy: 0.817\n",
      "Recall (Resistant): 0.733\n",
      "              precision    recall  f1-score   support\n",
      "\n",
      " Susceptible       0.93      0.90      0.92       120\n",
      "   Resistant       0.65      0.73      0.69        30\n",
      "\n",
      "    accuracy                           0.87       150\n",
      "   macro avg       0.79      0.82      0.80       150\n",
      "weighted avg       0.87      0.87      0.87       150\n",
      "\n",
      "\n",
      "Using Logistic Regression with best params: {'logreg__C': 0.1, 'logreg__penalty': 'l1'}\n",
      "\n",
      "=== Logistic Regression (Validation) ===\n",
      "Balanced Accuracy: 0.871\n",
      "Recall (Resistant): 0.867\n",
      "              precision    recall  f1-score   support\n",
      "\n",
      " Susceptible       0.96      0.88      0.92       120\n",
      "   Resistant       0.63      0.87      0.73        30\n",
      "\n",
      "    accuracy                           0.87       150\n",
      "   macro avg       0.80      0.87      0.82       150\n",
      "weighted avg       0.90      0.87      0.88       150\n",
      "\n"
     ]
    },
    {
     "data": {
      "image/png": "[encoded data removed]",
      "text/plain": [
       "<Figure size 500x400 with 2 Axes>"
      ]
     },
     "metadata": {},
     "output_type": "display_data"
    },
    {
     "name": "stdout",
     "output_type": "stream",
     "text": [
      "Saved: cm_validation_rf.png\n"
     ]
    },
    {
     "data": {
      "image/png": "[encoded data removed]",
      "text/plain": [
       "<Figure size 500x400 with 2 Axes>"
      ]
     },
     "metadata": {},
     "output_type": "display_data"
    },
    {
     "name": "stdout",
     "output_type": "stream",
     "text": [
      "Saved: cm_validation_logreg.png\n",
      "\n",
      "=== Validation Comparison Table ===\n",
      "                 Model  Balanced Accuracy  Recall (Resistant)\n",
      "0        Random Forest              0.817               0.733\n",
      "1  Logistic Regression              0.871               0.867\n",
      "\n",
      "=== Validation Comparison Table ===\n",
      "                 Model  Balanced Accuracy  Recall (Resistant)\n",
      "0        Random Forest              0.817               0.733\n",
      "1  Logistic Regression              0.871               0.867\n",
      "\n",
      ">>> Final model selected by validation Balanced Accuracy: Logistic Regression (tuned)\n"
     ]
    }
   ],
   "source": [
    "print(\"\\n--- Evaluating tuned models on 20% validation split ---\")\n",
    "\n",
    "X_tr, X_val, y_tr, y_val = train_test_split(\n",
    "    X, y, test_size=0.20, random_state=42, stratify=y\n",
    ")\n",
    "\n",
    "#Random Forest (best tuned)\n",
    "print(\"\\nUsing Random Forest with best params:\", rf_search.best_params_)\n",
    "best_rf = rf_search.best_estimator_\n",
    "best_rf.fit(X_tr, y_tr)\n",
    "y_val_pred_rf = best_rf.predict(X_val)\n",
    "bal_acc_rf = balanced_accuracy_score(y_val, y_val_pred_rf)\n",
    "recall_rf = recall_score(y_val, y_val_pred_rf, pos_label=POS_LABEL)\n",
    "print(\"\\n=== Random Forest (Validation) ===\")\n",
    "print(f\"Balanced Accuracy: {bal_acc_rf:.3f}\")\n",
    "print(f\"Recall (Resistant): {recall_rf:.3f}\")\n",
    "print(classification_report(\n",
    "    y_val, y_val_pred_rf,\n",
    "    labels=([\"S\",\"R\"] if POS_LABEL==\"R\" else [0,1]),\n",
    "    target_names=[\"Susceptible\",\"Resistant\"]\n",
    "))\n",
    "\n",
    "#Logistic Regression (best tuned)\n",
    "print(\"\\nUsing Logistic Regression with best params:\", logreg_search.best_params_)\n",
    "best_logreg = logreg_search.best_estimator_\n",
    "best_logreg.fit(X_tr, y_tr)\n",
    "y_val_pred_logreg = best_logreg.predict(X_val)\n",
    "bal_acc_logreg = balanced_accuracy_score(y_val, y_val_pred_logreg)\n",
    "recall_logreg = recall_score(y_val, y_val_pred_logreg, pos_label=POS_LABEL)\n",
    "print(\"\\n=== Logistic Regression (Validation) ===\")\n",
    "print(f\"Balanced Accuracy: {bal_acc_logreg:.3f}\")\n",
    "print(f\"Recall (Resistant): {recall_logreg:.3f}\")\n",
    "print(classification_report(\n",
    "    y_val, y_val_pred_logreg,\n",
    "    labels=([\"S\",\"R\"] if POS_LABEL==\"R\" else [0,1]),\n",
    "    target_names=[\"Susceptible\",\"Resistant\"]\n",
    "))\n",
    "\n",
    "#Confusion Matrix helper\n",
    "def plot_cm(y_true, y_pred, labels, title, outfile):\n",
    "    cm = confusion_matrix(y_true, y_pred, labels=labels)\n",
    "    fig, ax = plt.subplots(figsize=(5, 4))\n",
    "    im = ax.imshow(cm, interpolation=\"nearest\")\n",
    "    plt.colorbar(im, ax=ax)\n",
    "    ax.set_xticks([0,1]); ax.set_yticks([0,1])\n",
    "    ax.set_xticklabels([\"Pred S\",\"Pred R\"])\n",
    "    ax.set_yticklabels([\"Actual S\",\"Actual R\"])\n",
    "    ax.set_xlabel(\"Predicted Label\"); ax.set_ylabel(\"True Label\")\n",
    "    ax.set_title(title)\n",
    "    for i in range(cm.shape[0]):\n",
    "        for j in range(cm.shape[1]):\n",
    "            ax.text(j, i, cm[i, j], ha=\"center\", va=\"center\")\n",
    "    plt.tight_layout()\n",
    "    plt.savefig(outfile, dpi=200)\n",
    "    plt.show()\n",
    "    plt.close()\n",
    "    print(f\"Saved: {outfile}\")\n",
    "\n",
    "lbls = ([\"S\",\"R\"] if POS_LABEL==\"R\" else [0,1])\n",
    "plot_cm(y_val, y_val_pred_rf,     lbls, \"Confusion Matrix — RF (Validation)\",      \"cm_validation_rf.png\")\n",
    "plot_cm(y_val, y_val_pred_logreg, lbls, \"Confusion Matrix — LogReg (Validation)\",  \"cm_validation_logreg.png\")\n",
    "\n",
    "\n",
    "best_rf = rf_search.best_estimator_\n",
    "best_rf.fit(X_tr, y_tr)\n",
    "y_val_pred_rf = best_rf.predict(X_val)\n",
    "\n",
    "best_logreg = logreg_search.best_estimator_\n",
    "best_logreg.fit(X_tr, y_tr)\n",
    "y_val_pred_logreg = best_logreg.predict(X_val)\n",
    "\n",
    "\n",
    "\n",
    "# (Skip this split if you've already created X_tr, X_val, y_tr, y_val)\n",
    "# X_tr, X_val, y_tr, y_val = train_test_split(\n",
    "#     X, y, test_size=0.20, random_state=42, stratify=y\n",
    "# )\n",
    "\n",
    "#Build a side-by-side validation table for RF vs LogReg\n",
    "metrics_df = pd.DataFrame({\n",
    "    \"Model\": [\"Random Forest\", \"Logistic Regression\"],\n",
    "    \"Balanced Accuracy\": [\n",
    "        balanced_accuracy_score(y_val, y_val_pred_rf),\n",
    "        balanced_accuracy_score(y_val, y_val_pred_logreg)\n",
    "    ],\n",
    "    \"Recall (Resistant)\": [\n",
    "        recall_score(y_val, y_val_pred_rf, pos_label=POS_LABEL),\n",
    "        recall_score(y_val, y_val_pred_logreg, pos_label=POS_LABEL)\n",
    "    ]\n",
    "}).round(3)\n",
    "\n",
    "print(\"\\n=== Validation Comparison Table ===\")\n",
    "print(metrics_df)\n",
    "\n",
    "#Side-by-side validation table\n",
    "metrics_df = pd.DataFrame({\n",
    "    \"Model\": [\"Random Forest\", \"Logistic Regression\"],\n",
    "    \"Balanced Accuracy\": [\n",
    "        balanced_accuracy_score(y_val, y_val_pred_rf),\n",
    "        balanced_accuracy_score(y_val, y_val_pred_logreg)\n",
    "    ],\n",
    "    \"Recall (Resistant)\": [\n",
    "        recall_score(y_val, y_val_pred_rf, pos_label=POS_LABEL),\n",
    "        recall_score(y_val, y_val_pred_logreg, pos_label=POS_LABEL)\n",
    "    ]\n",
    "})\n",
    "metrics_df[\"Balanced Accuracy\"] = metrics_df[\"Balanced Accuracy\"].round(3)\n",
    "metrics_df[\"Recall (Resistant)\"] = metrics_df[\"Recall (Resistant)\"].round(3)\n",
    "\n",
    "print(\"\\n=== Validation Comparison Table ===\")\n",
    "print(metrics_df)\n",
    "\n",
    "#Choose final model by validation Balanced Accuracy ----\n",
    "if bal_acc_logreg >= bal_acc_rf:\n",
    "    final_model_name = \"Logistic Regression (tuned)\"\n",
    "    final_model = best_logreg\n",
    "else:\n",
    "    final_model_name = \"Random Forest (tuned)\"\n",
    "    final_model = best_rf\n",
    "\n",
    "print(f\"\\n>>> Final model selected by validation Balanced Accuracy: {final_model_name}\")"
   ]
  },
  {
   "cell_type": "markdown",
   "id": "a62e6ff1-c64e-495a-bd43-2922fce2e891",
   "metadata": {},
   "source": [
    "## 13. Final Model Evaluation\n",
    "\n",
    "#### After comparing both tuned models (Random Forest vs Logistic Regression) on the validation split, Select the final model based on balanced accuracy.  \n",
    "#### This section re-fits the chosen model on the training data and evaluates its performance on the held-out validation set.  "
   ]
  },
  {
   "cell_type": "code",
   "execution_count": 51,
   "id": "bc30fe68-5592-4f82-977c-f5a2b6ba69cb",
   "metadata": {},
   "outputs": [
    {
     "name": "stdout",
     "output_type": "stream",
     "text": [
      "\n",
      "=== Final Model (Logistic Regression (tuned)) — Validation Metrics ===\n",
      "Balanced Accuracy: 0.871\n",
      "Recall (Resistant): 0.867\n",
      "              precision    recall  f1-score   support\n",
      "\n",
      " Susceptible       0.96      0.88      0.92       120\n",
      "   Resistant       0.63      0.87      0.73        30\n",
      "\n",
      "    accuracy                           0.87       150\n",
      "   macro avg       0.80      0.87      0.82       150\n",
      "weighted avg       0.90      0.87      0.88       150\n",
      "\n"
     ]
    }
   ],
   "source": [
    "#Evaluate chosen final model\n",
    "final_model.fit(X_tr, y_tr)\n",
    "y_val_pred_final = final_model.predict(X_val)\n",
    "\n",
    "bal_acc_final = balanced_accuracy_score(y_val, y_val_pred_final)\n",
    "recall_final  = recall_score(y_val, y_val_pred_final, pos_label=POS_LABEL)\n",
    "\n",
    "print(f\"\\n=== Final Model ({final_model_name}) — Validation Metrics ===\")\n",
    "print(f\"Balanced Accuracy: {bal_acc_final:.3f}\")\n",
    "print(f\"Recall (Resistant): {recall_final:.3f}\")\n",
    "print(classification_report(\n",
    "    y_val, y_val_pred_final,\n",
    "    labels=([\"S\",\"R\"] if POS_LABEL==\"R\" else [0,1]),\n",
    "    target_names=[\"Susceptible\",\"Resistant\"]\n",
    "))"
   ]
  },
  {
   "cell_type": "markdown",
   "id": "f6c6b237-bbcc-44e8-9835-38d63d36b4fe",
   "metadata": {},
   "source": [
    "## 14. Save Final Test Predictions (CSV)\n",
    "#### After comparing the tuned Random Forest and Logistic Regression models on the validation split,  \n",
    "#### the final model is selected based on **Balanced Accuracy**.  \n",
    "\n",
    "#### This section re-fits the chosen model on the training data and evaluates its performance on the held-out validation set, reporting:  \n",
    "#### Balanced Accuracy  \n",
    "#### Recall on Resistant isolates  \n",
    "#### Full Classification Report  "
   ]
  },
  {
   "cell_type": "code",
   "execution_count": 52,
   "id": "3d6f0cc1-82a8-4189-be2d-f4ed8744bf2f",
   "metadata": {},
   "outputs": [
    {
     "name": "stdout",
     "output_type": "stream",
     "text": [
      "Saved: final_predictions.csv\n"
     ]
    }
   ],
   "source": [
    "y_test_pred = final_model.predict(test_pa_genes)\n",
    "final_predictions = pd.DataFrame({\n",
    "    \"genome_id\": test_pa_genes.index,\n",
    "    \"y_pred\": y_test_pred\n",
    "})\n",
    "final_predictions.to_csv(\"final_predictions.csv\", index=False)\n",
    "print(\"Saved: final_predictions.csv\")"
   ]
  },
  {
   "cell_type": "markdown",
   "id": "42c70d41-94ee-413a-a1ca-633d0fe51a68",
   "metadata": {},
   "source": [
    "## 15. Save Final Model Artifact\n",
    "\n",
    "#### To make the trained model reusable, the final selected Logistic Regression model is saved with `joblib`.  \n",
    "#### This allows quick re-loading for future predictions or deployment without retraining. "
   ]
  },
  {
   "cell_type": "code",
   "execution_count": 53,
   "id": "a0e31f3b-6589-4e61-b1a6-494a042d97b1",
   "metadata": {},
   "outputs": [
    {
     "name": "stdout",
     "output_type": "stream",
     "text": [
      "Saved: final_model_logreg.pkl\n"
     ]
    }
   ],
   "source": [
    "import joblib\n",
    "joblib.dump(final_model, \"final_model_logreg.pkl\")\n",
    "print(\"Saved: final_model_logreg.pkl\")"
   ]
  },
  {
   "cell_type": "markdown",
   "id": "28ece565-f202-4ac3-a810-4342057bfce3",
   "metadata": {},
   "source": [
    "## 16. Final Report Summary (Objective, Methods, Results, Conclusion)\n",
    "#### This section programmatically prints a structured summary of the workflow and results.  \n",
    "#### It includes:  \n",
    "\n",
    "#### **Objective**: the prediction task.  \n",
    "#### **Methods**: the models and evaluation strategy.  \n",
    "#### **Results**: cross-validation and validation metrics, plus best model selection.  \n",
    "#### **Conclusion**: final model choice, feature importance (if available), and saved artifacts.  \n",
    "\n",
    "#### This makes the notebook self-contained and easy to interpret when shared.  "
   ]
  },
  {
   "cell_type": "code",
   "execution_count": 54,
   "id": "42582cf1-bb60-49f2-9742-6a1e019c70d3",
   "metadata": {},
   "outputs": [
    {
     "name": "stdout",
     "output_type": "stream",
     "text": [
      "\n",
      "Objective\n",
      "---------\n",
      "- Predict cefepime resistance in E. coli using presence/absence gene features.\n",
      "\n",
      "Methods\n",
      "-------\n",
      "- Compared Logistic Regression and Random Forest classifiers.\n",
      "- Used nested cross-validation with balanced accuracy as the primary metric.\n",
      "- Inspected confusion matrix and recall for the Resistant (positive) class.\n",
      "\n",
      "Results\n",
      "-------\n",
      "- CV Balanced Accuracy (means): {'LogReg (Default)': 0.811, 'LogReg (Tuned)': 0.834, 'RF (Default)': 0.777, 'RF (Tuned)': 0.772}\n",
      "- Validation Balanced Accuracy (final): 0.871\n",
      "- Validation Recall (Resistant): 0.867\n",
      "- Best tuned model by CV mean: LogReg (Tuned) (0.834)\n",
      "\n",
      "Conclusion\n",
      "----------\n",
      "- Logistic Regression selected as the final model based on stronger recall and overall balanced accuracy.\n",
      "- Top feature importances (first 10): N/A\n",
      "- Artifacts saved: final_predictions.csv, confusion_matrix_validation.png, cv_balanced_accuracy_sem.png\n"
     ]
    }
   ],
   "source": [
    "def print_section(title, body_lines):\n",
    "    bar = \"-\" * len(title)\n",
    "    print(f\"\\n{title}\\n{bar}\")\n",
    "    for line in body_lines:\n",
    "        print(f\"- {line}\")\n",
    "\n",
    "# Aggregate CV means for summary\n",
    "cv_means = {\n",
    "    \"LogReg (Default)\": np.mean(logreg_default_scores),\n",
    "    \"LogReg (Tuned)\"  : np.mean(logreg_tuned_scores),\n",
    "    \"RF (Default)\"    : np.mean(rf_default_scores),\n",
    "    \"RF (Tuned)\"      : np.mean(rf_tuned_scores),\n",
    "}\n",
    "winner = max(cv_means.items(), key=lambda kv: kv[1])\n",
    "\n",
    "print_section(\"Objective\", [\n",
    "    \"Predict cefepime resistance in E. coli using presence/absence gene features.\"\n",
    "])\n",
    "\n",
    "print_section(\"Methods\", [\n",
    "    \"Compared Logistic Regression and Random Forest classifiers.\",\n",
    "    \"Used nested cross-validation with balanced accuracy as the primary metric.\",\n",
    "    \"Inspected confusion matrix and recall for the Resistant (positive) class.\"\n",
    "])\n",
    "\n",
    "print_section(\"Results\", [\n",
    "    f\"CV Balanced Accuracy (means): { {k: round(v,3) for k,v in cv_means.items()} }\",\n",
    "    f\"Validation Balanced Accuracy (final): {bal_acc_final:.3f}\",\n",
    "    f\"Validation Recall (Resistant): {recall_final:.3f}\",\n",
    "    f\"Best tuned model by CV mean: {winner[0]} ({winner[1]:.3f})\"\n",
    "])\n",
    "\n",
    "# Feature importance summary (if RF)\n",
    "fi_msg = \"N/A\"\n",
    "try:\n",
    "    if hasattr(final_model, \"feature_importances_\"):\n",
    "        importances = final_model.feature_importances_\n",
    "        top_idx = np.argsort(importances)[::-1][:10]\n",
    "        top_features = X.columns[top_idx]\n",
    "        top_values = importances[top_idx]\n",
    "        fi_msg = \", \".join([f\"{f} ({v:.3f})\" for f, v in zip(top_features, top_values)])\n",
    "except Exception as e:\n",
    "    fi_msg = f\"N/A (error computing importances: {e})\"\n",
    "\n",
    "print_section(\"Conclusion\", [\n",
    "    \"Logistic Regression selected as the final model based on stronger recall and overall balanced accuracy.\",\n",
    "    f\"Top feature importances (first 10): {fi_msg}\",\n",
    "    \"Artifacts saved: final_predictions.csv, confusion_matrix_validation.png, cv_balanced_accuracy_sem.png\"\n",
    "])"
   ]
  },
  {
   "cell_type": "markdown",
   "id": "b4569bab-530e-4aaa-8d90-5b9690b5683c",
   "metadata": {},
   "source": [
    "## Final Notes  \n",
    "\n",
    "#### **Balanced Accuracy** accounts for class imbalance and is preferred over raw accuracy here.  \n",
    "#### **Nested CV** prevents data leakage during hyperparameter tuning and model evaluation.  \n",
    "#### **Logistic Regression** is great for interpretability and linear relationships.\n",
    "#### **Random Forest** handles nonlinearity and noise but may require more tuning.  \n",
    "#### **Model selection** should balance performance, explainability, and robustness.  "
   ]
  }
 ],
 "metadata": {
  "kernelspec": {
   "display_name": "Python 3 (ipykernel)",
   "language": "python",
   "name": "python3"
  },
  "language_info": {
   "codemirror_mode": {
    "name": "ipython",
    "version": 3
   },
   "file_extension": ".py",
   "mimetype": "text/x-python",
   "name": "python",
   "nbconvert_exporter": "python",
   "pygments_lexer": "ipython3",
   "version": "3.12.2"
  }
 },
 "nbformat": 4,
 "nbformat_minor": 5
}
